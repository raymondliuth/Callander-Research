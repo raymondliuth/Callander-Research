{
 "cells": [
  {
   "cell_type": "code",
   "execution_count": 10,
   "id": "a8b9e833-b762-450c-b15c-a2a46aac56a1",
   "metadata": {},
   "outputs": [],
   "source": [
    "import pandas as pd"
   ]
  },
  {
   "cell_type": "code",
   "execution_count": null,
   "id": "c5595c2e-874b-4578-b4e9-e4b7bc086d14",
   "metadata": {},
   "outputs": [],
   "source": []
  },
  {
   "cell_type": "code",
   "execution_count": 11,
   "id": "e448b4a9-f2f7-4d39-b528-9bafef3c65c8",
   "metadata": {},
   "outputs": [],
   "source": [
    "data = pd.read_excel(\"data.xlsx\",engine='openpyxl')"
   ]
  },
  {
   "cell_type": "code",
   "execution_count": 19,
   "id": "2a5ceba8-349d-4846-9b76-966d15aa96f1",
   "metadata": {},
   "outputs": [
    {
     "data": {
      "text/plain": [
       "'Tags \\n big cock uncut verified amateurs zaddy bareback cumshot couple gay mask gay bisexual trade gay licking kink \\n Suggest'"
      ]
     },
     "execution_count": 19,
     "metadata": {},
     "output_type": "execute_result"
    }
   ],
   "source": [
    "data['tags'][1]"
   ]
  },
  {
   "cell_type": "code",
   "execution_count": null,
   "id": "3528b2bb-68de-41a8-b61b-f5f1c5d7c03a",
   "metadata": {},
   "outputs": [],
   "source": []
  }
 ],
 "metadata": {
  "kernelspec": {
   "display_name": "Python 3 (ipykernel)",
   "language": "python",
   "name": "python3"
  },
  "language_info": {
   "codemirror_mode": {
    "name": "ipython",
    "version": 3
   },
   "file_extension": ".py",
   "mimetype": "text/x-python",
   "name": "python",
   "nbconvert_exporter": "python",
   "pygments_lexer": "ipython3",
   "version": "3.9.6"
  }
 },
 "nbformat": 4,
 "nbformat_minor": 5
}
