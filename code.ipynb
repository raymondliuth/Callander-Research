{
 "cells": [
  {
   "cell_type": "code",
   "execution_count": 1,
   "id": "a8b9e833-b762-450c-b15c-a2a46aac56a1",
   "metadata": {},
   "outputs": [],
   "source": [
    "####\n",
    "#Clean Porn Dataset\n",
    "#Tianhao\n",
    "#2021/7/29\n",
    "####\n",
    "\n",
    "import pandas as pd\n",
    "import datetime\n",
    "import numpy as np\n",
    "import xlsxwriter"
   ]
  },
  {
   "cell_type": "code",
   "execution_count": 6,
   "id": "c5595c2e-874b-4578-b4e9-e4b7bc086d14",
   "metadata": {},
   "outputs": [],
   "source": [
    "### Read Categories File\n",
    "pornhub_categories = pd.read_excel(r'C:\\Users\\raymo\\Documents\\GitHub\\Callander-Research\\Porn database\\Data\\RAW\\PH_gay\\Categories.xlsx')\n",
    "\n",
    "### Read xlsx File\n",
    "local_path = 'C:/Users/raymo/Documents/GitHub/Callander-Research/Porn database/Data/RAW/PH_gay/' #local path of where the raw data stored\n",
    "store_path = 'C:/Users/raymo/Documents/GitHub/Callander-Research/Porn database/Data/OUTPUT/' #local path of where the output data stored\n",
    "file_names = ['2021-03-07.xlsx','2021-03-14.xlsx','2021-03-21.xlsx','2021-03-28.xlsx','2021-04-04.xlsx','2021-04-18.xlsx'\n",
    "             ,'2021-05-16.xlsx','2021-05-30.xlsx','2021-06-13.xlsx','2021-06-20.xlsx','2021-07-18.xlsx','2021-07-25.xlsx'\n",
    "             ] #file name\n",
    "\n",
    "datasets = {}\n",
    "for file in file_names:\n",
    "    sample = pd.read_excel(local_path+file,engine=None) #read in files\n",
    "    datasets[file] = sample\n",
    "\n"
   ]
  },
  {
   "cell_type": "code",
   "execution_count": null,
   "id": "d174e313",
   "metadata": {},
   "outputs": [],
   "source": []
  },
  {
   "cell_type": "code",
   "execution_count": 3,
   "id": "2a5ceba8-349d-4846-9b76-966d15aa96f1",
   "metadata": {},
   "outputs": [],
   "source": [
    "#Series types\n",
    "#This function convert series into correct types and check any null\n",
    "\n",
    "def convert_types(file_name, data):\n",
    "    copy_data = data.copy()\n",
    "\n",
    "    #extract the viewkeys from pornhub urls\n",
    "    \n",
    "    copy_data[\"url\"] = [i.replace(\"https://www.pornhub.com/view_video.php?viewkey=\",\"\") for i in copy_data[\"url\"]]\n",
    "    \n",
    "    #convert views(str) to int\n",
    "    copy_data[\"views\"] = copy_data[\"views\"].fillna('0')\n",
    "    copy_data[\"views\"] = [int(str(i).replace(',' , '')) for i in copy_data[\"views\"]]\n",
    "    \n",
    "    #convert approval to int\n",
    "    copy_data[\"approval\"] = copy_data[\"approval\"].fillna('0')\n",
    "    copy_data[\"approval\"] = [int(str(i).replace('%',''))/100 for i in copy_data[\"approval\"]]\n",
    "    \n",
    "    #convert upload_date to date_time\n",
    "    extract_time_str = file_name.replace(\".xlsx\",\"\").split(\"-\")\n",
    "    extract_time = datetime.date(int(extract_time_str[0]),int(extract_time_str[1]),int(extract_time_str[2]))\n",
    "    upload_time = np.array([])\n",
    "    for i in copy_data[\"upload_date\"]:\n",
    "        copy_data[\"upload_date\"] = copy_data[\"upload_date\"].fillna('0 years ago')\n",
    "        temp = i.split(\" \")\n",
    "        if temp[0] == 'Yesterday':\n",
    "            upload_time = np.append(upload_time,extract_time- datetime.timedelta(days= 1))\n",
    "        elif temp[1] == 'week' or temp[1] == 'weeks':\n",
    "            upload_time = np.append(upload_time,extract_time- datetime.timedelta(days= int(temp[0])*7))\n",
    "        elif temp[1] == 'month' or temp[1] == 'months':\n",
    "            upload_time = np.append(upload_time,extract_time- datetime.timedelta(days= int(temp[0])*30))\n",
    "        elif temp[1] == 'year' or temp[1] == 'years':\n",
    "            upload_time = np.append(upload_time,extract_time- datetime.timedelta(days= int(temp[0])*365))\n",
    "        elif temp[1] == 'day' or temp[1] == 'days':\n",
    "            upload_time = np.append(upload_time,extract_time- datetime.timedelta(days= int(temp[0])*1))\n",
    "        else:\n",
    "            upload_time = np.append(upload_time,'')\n",
    "    copy_data[\"upload_date\"] = upload_time\n",
    "    \n",
    "    #Convert all categories into string and check null\n",
    "    copy_data[\"categories\"] = [str(i) for i in copy_data[\"categories\"]]\n",
    "    \n",
    "    #convert approval_pos and neg to int \n",
    "    copy_data[\"approval_pos\"] = copy_data[\"approval_pos\"].fillna('0')\n",
    "    copy_data[\"approval_pos\"] = [int(str(i).replace('%','').replace('K','000')) for i in copy_data[\"approval_pos\"]]\n",
    "    copy_data[\"approval_neg\"] = copy_data[\"approval_neg\"].fillna('0')\n",
    "    copy_data[\"approval_neg\"] = [int(str(i).replace('%','').replace(\".0\",\"\").replace('K','000')) for i in copy_data[\"approval_neg\"]]\n",
    "    \n",
    "    #Clean Actors Column\n",
    "    copy_data[\"actors\"] = copy_data[\"actors\"].fillna('')\n",
    "    copy_data[\"actors\"] = [i.replace(\"Pornstars: \",'').replace(\"Suggest \",'').replace(\"\\n \",'')\n",
    "        .replace(\"Thank you for your suggestions! Our team is reviewing them!\",\"\") for i in copy_data[\"actors\"]]\n",
    "    copy_data[\"actors\"] = ['NaN' if i == '' else i for i in copy_data[\"actors\"]]\n",
    "\n",
    "    #clean comment number\n",
    "    copy_data[\"comments_number\"] = copy_data[\"comments_number\"].fillna('0')\n",
    "    copy_data[\"comments_number\"] = [int(i.replace('(','').replace(')','')) for i in copy_data[\"comments_number\"]]\n",
    "    \n",
    "    #drop related_videos\n",
    "    copy_data = copy_data.drop(columns = [\"related_videos\"])\n",
    "    \n",
    "    #drop videostill_image_alt\n",
    "    copy_data = copy_data.drop(columns = [\"videostill_image_alt\"])\n",
    "    \n",
    "    comments_data = modify_comments(copy_data)\n",
    "    return copy_data,comments_data\n"
   ]
  },
  {
   "cell_type": "code",
   "execution_count": 4,
   "id": "3528b2bb-68de-41a8-b61b-f5f1c5d7c03a",
   "metadata": {},
   "outputs": [],
   "source": [
    "# This function create the bag of words for comments\n",
    "def modify_comments(data):\n",
    "    new_categories = [i.replace(\"Categories \\n \",\"\").replace(\" \\n Suggest\",\"\") for i in data[\"categories\"]]\n",
    "    bag = np.array([[]])\n",
    "    for fullstring in data[\"categories\"]: \n",
    "        temp = np.array([])\n",
    "        for substring in pornhub_categories[\"Categories\"]:\n",
    "                \n",
    "            if substring in fullstring:\n",
    "                temp = np.append(temp, 1)\n",
    "            elif substring not in fullstring:\n",
    "                temp = np.append(temp, 0)\n",
    "        \n",
    "        bag = np.append(bag,temp)  \n",
    "    bag = bag.reshape(data[\"categories\"].size,pornhub_categories[\"Categories\"].size)\n",
    "    bag = pd.DataFrame(bag,index = data[\"url\"] ,columns = pornhub_categories[\"Categories\"])\n",
    "    return bag\n",
    "\n",
    "\n"
   ]
  },
  {
   "cell_type": "code",
   "execution_count": 7,
   "id": "34af36fa",
   "metadata": {},
   "outputs": [
    {
     "name": "stderr",
     "output_type": "stream",
     "text": [
      "IOPub data rate exceeded.\n",
      "The notebook server will temporarily stop sending output\n",
      "to the client in order to avoid crashing it.\n",
      "To change this limit, set the config variable\n",
      "`--NotebookApp.iopub_data_rate_limit`.\n",
      "\n",
      "Current values:\n",
      "NotebookApp.iopub_data_rate_limit=1000000.0 (bytes/sec)\n",
      "NotebookApp.rate_limit_window=3.0 (secs)\n",
      "\n"
     ]
    },
    {
     "name": "stdout",
     "output_type": "stream",
     "text": [
      "Output for file:  2021-03-07.xlsx  is successful :) \n"
     ]
    },
    {
     "name": "stderr",
     "output_type": "stream",
     "text": [
      "IOPub data rate exceeded.\n",
      "The notebook server will temporarily stop sending output\n",
      "to the client in order to avoid crashing it.\n",
      "To change this limit, set the config variable\n",
      "`--NotebookApp.iopub_data_rate_limit`.\n",
      "\n",
      "Current values:\n",
      "NotebookApp.iopub_data_rate_limit=1000000.0 (bytes/sec)\n",
      "NotebookApp.rate_limit_window=3.0 (secs)\n",
      "\n"
     ]
    },
    {
     "name": "stdout",
     "output_type": "stream",
     "text": [
      "Output for file:  2021-03-14.xlsx  is successful :) \n"
     ]
    },
    {
     "name": "stderr",
     "output_type": "stream",
     "text": [
      "IOPub data rate exceeded.\n",
      "The notebook server will temporarily stop sending output\n",
      "to the client in order to avoid crashing it.\n",
      "To change this limit, set the config variable\n",
      "`--NotebookApp.iopub_data_rate_limit`.\n",
      "\n",
      "Current values:\n",
      "NotebookApp.iopub_data_rate_limit=1000000.0 (bytes/sec)\n",
      "NotebookApp.rate_limit_window=3.0 (secs)\n",
      "\n"
     ]
    },
    {
     "name": "stdout",
     "output_type": "stream",
     "text": [
      "Output for file:  2021-03-21.xlsx  is successful :) \n"
     ]
    },
    {
     "name": "stderr",
     "output_type": "stream",
     "text": [
      "IOPub data rate exceeded.\n",
      "The notebook server will temporarily stop sending output\n",
      "to the client in order to avoid crashing it.\n",
      "To change this limit, set the config variable\n",
      "`--NotebookApp.iopub_data_rate_limit`.\n",
      "\n",
      "Current values:\n",
      "NotebookApp.iopub_data_rate_limit=1000000.0 (bytes/sec)\n",
      "NotebookApp.rate_limit_window=3.0 (secs)\n",
      "\n"
     ]
    },
    {
     "name": "stdout",
     "output_type": "stream",
     "text": [
      "Output for file:  2021-03-28.xlsx  is successful :) \n"
     ]
    },
    {
     "name": "stderr",
     "output_type": "stream",
     "text": [
      "IOPub data rate exceeded.\n",
      "The notebook server will temporarily stop sending output\n",
      "to the client in order to avoid crashing it.\n",
      "To change this limit, set the config variable\n",
      "`--NotebookApp.iopub_data_rate_limit`.\n",
      "\n",
      "Current values:\n",
      "NotebookApp.iopub_data_rate_limit=1000000.0 (bytes/sec)\n",
      "NotebookApp.rate_limit_window=3.0 (secs)\n",
      "\n"
     ]
    },
    {
     "name": "stdout",
     "output_type": "stream",
     "text": [
      "Output for file:  2021-04-04.xlsx  is successful :) \n"
     ]
    },
    {
     "name": "stderr",
     "output_type": "stream",
     "text": [
      "IOPub data rate exceeded.\n",
      "The notebook server will temporarily stop sending output\n",
      "to the client in order to avoid crashing it.\n",
      "To change this limit, set the config variable\n",
      "`--NotebookApp.iopub_data_rate_limit`.\n",
      "\n",
      "Current values:\n",
      "NotebookApp.iopub_data_rate_limit=1000000.0 (bytes/sec)\n",
      "NotebookApp.rate_limit_window=3.0 (secs)\n",
      "\n"
     ]
    },
    {
     "name": "stdout",
     "output_type": "stream",
     "text": [
      "Output for file:  2021-04-18.xlsx  is successful :) \n"
     ]
    },
    {
     "name": "stderr",
     "output_type": "stream",
     "text": [
      "IOPub data rate exceeded.\n",
      "The notebook server will temporarily stop sending output\n",
      "to the client in order to avoid crashing it.\n",
      "To change this limit, set the config variable\n",
      "`--NotebookApp.iopub_data_rate_limit`.\n",
      "\n",
      "Current values:\n",
      "NotebookApp.iopub_data_rate_limit=1000000.0 (bytes/sec)\n",
      "NotebookApp.rate_limit_window=3.0 (secs)\n",
      "\n"
     ]
    },
    {
     "name": "stdout",
     "output_type": "stream",
     "text": [
      "Output for file:  2021-05-16.xlsx  is successful :) \n",
      "Output for file:  2021-05-30.xlsx  is successful :) \n"
     ]
    },
    {
     "name": "stderr",
     "output_type": "stream",
     "text": [
      "IOPub data rate exceeded.\n",
      "The notebook server will temporarily stop sending output\n",
      "to the client in order to avoid crashing it.\n",
      "To change this limit, set the config variable\n",
      "`--NotebookApp.iopub_data_rate_limit`.\n",
      "\n",
      "Current values:\n",
      "NotebookApp.iopub_data_rate_limit=1000000.0 (bytes/sec)\n",
      "NotebookApp.rate_limit_window=3.0 (secs)\n",
      "\n"
     ]
    },
    {
     "name": "stdout",
     "output_type": "stream",
     "text": [
      "Output for file:  2021-06-13.xlsx  is successful :) \n"
     ]
    },
    {
     "name": "stderr",
     "output_type": "stream",
     "text": [
      "IOPub data rate exceeded.\n",
      "The notebook server will temporarily stop sending output\n",
      "to the client in order to avoid crashing it.\n",
      "To change this limit, set the config variable\n",
      "`--NotebookApp.iopub_data_rate_limit`.\n",
      "\n",
      "Current values:\n",
      "NotebookApp.iopub_data_rate_limit=1000000.0 (bytes/sec)\n",
      "NotebookApp.rate_limit_window=3.0 (secs)\n",
      "\n"
     ]
    },
    {
     "name": "stdout",
     "output_type": "stream",
     "text": [
      "Output for file:  2021-06-20.xlsx  is successful :) \n"
     ]
    },
    {
     "name": "stderr",
     "output_type": "stream",
     "text": [
      "IOPub data rate exceeded.\n",
      "The notebook server will temporarily stop sending output\n",
      "to the client in order to avoid crashing it.\n",
      "To change this limit, set the config variable\n",
      "`--NotebookApp.iopub_data_rate_limit`.\n",
      "\n",
      "Current values:\n",
      "NotebookApp.iopub_data_rate_limit=1000000.0 (bytes/sec)\n",
      "NotebookApp.rate_limit_window=3.0 (secs)\n",
      "\n"
     ]
    },
    {
     "name": "stdout",
     "output_type": "stream",
     "text": [
      "Output for file:  2021-07-18.xlsx  is successful :) \n"
     ]
    },
    {
     "name": "stderr",
     "output_type": "stream",
     "text": [
      "IOPub data rate exceeded.\n",
      "The notebook server will temporarily stop sending output\n",
      "to the client in order to avoid crashing it.\n",
      "To change this limit, set the config variable\n",
      "`--NotebookApp.iopub_data_rate_limit`.\n",
      "\n",
      "Current values:\n",
      "NotebookApp.iopub_data_rate_limit=1000000.0 (bytes/sec)\n",
      "NotebookApp.rate_limit_window=3.0 (secs)\n",
      "\n"
     ]
    },
    {
     "name": "stdout",
     "output_type": "stream",
     "text": [
      "Output for file:  2021-07-25.xlsx  is successful :) \n"
     ]
    }
   ],
   "source": [
    "#export modified dataset\n",
    "\n",
    "for k in datasets.keys():\n",
    "    modified = convert_types(k,datasets[k])\n",
    "    \n",
    "    #write out excel file\n",
    "    modified[0].to_excel(store_path+\"OUTPUT_\" + k,sheet_name = 'Sheet 1')\n",
    "    modified[1].to_excel(store_path+\"OUTPUT_Comments_\" + k,sheet_name = 'Sheet 2')\n",
    "    print(\"Output for file: \", k, \" is successful :) \")"
   ]
  },
  {
   "cell_type": "code",
   "execution_count": null,
   "id": "15f118a0",
   "metadata": {},
   "outputs": [],
   "source": []
  },
  {
   "cell_type": "code",
   "execution_count": null,
   "id": "a9bdf547",
   "metadata": {},
   "outputs": [],
   "source": []
  },
  {
   "cell_type": "code",
   "execution_count": null,
   "id": "d11a0abe",
   "metadata": {},
   "outputs": [],
   "source": []
  }
 ],
 "metadata": {
  "kernelspec": {
   "display_name": "Python 3 (ipykernel)",
   "language": "python",
   "name": "python3"
  },
  "language_info": {
   "codemirror_mode": {
    "name": "ipython",
    "version": 3
   },
   "file_extension": ".py",
   "mimetype": "text/x-python",
   "name": "python",
   "nbconvert_exporter": "python",
   "pygments_lexer": "ipython3",
   "version": "3.9.6"
  }
 },
 "nbformat": 4,
 "nbformat_minor": 5
}
