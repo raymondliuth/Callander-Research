{
 "cells": [
  {
   "cell_type": "code",
   "execution_count": 14,
   "id": "a8b9e833-b762-450c-b15c-a2a46aac56a1",
   "metadata": {},
   "outputs": [],
   "source": [
    "####\n",
    "#Clean Porn Dataset\n",
    "#Tianhao\n",
    "#2021/7/29\n",
    "####\n",
    "import pandas as pd\n",
    "import datetime\n"
   ]
  },
  {
   "cell_type": "code",
   "execution_count": 9,
   "id": "c5595c2e-874b-4578-b4e9-e4b7bc086d14",
   "metadata": {},
   "outputs": [],
   "source": [
    "### Read xlsx File\n",
    "March_7 = pd.read_excel(r'C:\\Users\\raymo\\Documents\\GitHub\\Callander-Research\\Porn database\\Data\\RAW\\PH_gay\\2021-03-07.xlsx')\n"
   ]
  },
  {
   "cell_type": "code",
   "execution_count": 28,
   "id": "e448b4a9-f2f7-4d39-b528-9bafef3c65c8",
   "metadata": {},
   "outputs": [
    {
     "data": {
      "text/plain": [
       "['Tags',\n",
       " '\\n',\n",
       " 'big',\n",
       " 'cock',\n",
       " 'anal',\n",
       " 'gay',\n",
       " 'glass',\n",
       " 'dildo',\n",
       " 'eye',\n",
       " 'rolling',\n",
       " 'big',\n",
       " 'dildo',\n",
       " 'creampie',\n",
       " 'gay',\n",
       " 'cumshot',\n",
       " 'gay',\n",
       " 'hd',\n",
       " '1080',\n",
       " 'big',\n",
       " 'ass',\n",
       " 'bubble',\n",
       " 'butt',\n",
       " 'chaturbate',\n",
       " 'muscle',\n",
       " 'bigdick',\n",
       " '\\n',\n",
       " 'Suggest']"
      ]
     },
     "execution_count": 28,
     "metadata": {},
     "output_type": "execute_result"
    }
   ],
   "source": [
    "March_7[\"Extract Date\"] = datetime.datetime(2021,3,7)\n",
    "March_7[\"tags\"][1].split(\" \")"
   ]
  },
  {
   "cell_type": "code",
   "execution_count": null,
   "id": "2a5ceba8-349d-4846-9b76-966d15aa96f1",
   "metadata": {},
   "outputs": [],
   "source": []
  },
  {
   "cell_type": "code",
   "execution_count": null,
   "id": "3528b2bb-68de-41a8-b61b-f5f1c5d7c03a",
   "metadata": {},
   "outputs": [],
   "source": []
  }
 ],
 "metadata": {
  "kernelspec": {
   "display_name": "Python 3 (ipykernel)",
   "language": "python",
   "name": "python3"
  },
  "language_info": {
   "codemirror_mode": {
    "name": "ipython",
    "version": 3
   },
   "file_extension": ".py",
   "mimetype": "text/x-python",
   "name": "python",
   "nbconvert_exporter": "python",
   "pygments_lexer": "ipython3",
   "version": "3.9.6"
  }
 },
 "nbformat": 4,
 "nbformat_minor": 5
}
